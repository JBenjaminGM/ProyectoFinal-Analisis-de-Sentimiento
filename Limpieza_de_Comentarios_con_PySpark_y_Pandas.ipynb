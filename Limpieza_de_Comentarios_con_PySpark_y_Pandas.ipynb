{
  "nbformat": 4,
  "nbformat_minor": 0,
  "metadata": {
    "colab": {
      "provenance": [],
      "include_colab_link": true
    },
    "kernelspec": {
      "name": "python3",
      "display_name": "Python 3"
    },
    "language_info": {
      "name": "python"
    }
  },
  "cells": [
    {
      "cell_type": "markdown",
      "metadata": {
        "id": "view-in-github",
        "colab_type": "text"
      },
      "source": [
        "<a href=\"https://colab.research.google.com/github/JBenjaminGM/ProyectoFinal-Analisis-de-Sentimiento/blob/main/Limpieza_de_Comentarios_con_PySpark_y_Pandas.ipynb\" target=\"_parent\"><img src=\"https://colab.research.google.com/assets/colab-badge.svg\" alt=\"Open In Colab\"/></a>"
      ]
    },
    {
      "cell_type": "markdown",
      "source": [
        "*Instalación de Pyspark, PyDrive y Java 8.0*"
      ],
      "metadata": {
        "id": "E62ClOX8A2tY"
      }
    },
    {
      "cell_type": "code",
      "execution_count": 110,
      "metadata": {
        "id": "2Zv3fvuuAjDV",
        "colab": {
          "base_uri": "https://localhost:8080/"
        },
        "outputId": "c81a3ec5-3aa8-40ac-c76b-efd66a32e34d"
      },
      "outputs": [
        {
          "output_type": "stream",
          "name": "stdout",
          "text": [
            "Requirement already satisfied: pyspark in /usr/local/lib/python3.10/dist-packages (3.5.0)\n",
            "Requirement already satisfied: py4j==0.10.9.7 in /usr/local/lib/python3.10/dist-packages (from pyspark) (0.10.9.7)\n",
            "openjdk-8-jdk-headless is already the newest version (8u382-ga-1~22.04.1).\n",
            "0 upgraded, 0 newly installed, 0 to remove and 19 not upgraded.\n"
          ]
        }
      ],
      "source": [
        "!pip install pyspark\n",
        "!pip install -U -q PyDrive\n",
        "!apt install openjdk-8-jdk-headless -qq\n",
        "import os\n",
        "os.environ[\"JAVA_HOME\"] = \"/usr/lib/jvm/java-8-openjdk-amd64\""
      ]
    },
    {
      "cell_type": "markdown",
      "source": [
        "*Importa las librerias Pyspark y se crea la sesión de conexión a PySpark*"
      ],
      "metadata": {
        "id": "3zulHWD3A154"
      }
    },
    {
      "cell_type": "code",
      "source": [
        "import pyspark\n",
        "# Carga ufnciones extra\n",
        "from pyspark.sql.functions import *\n",
        "from pyspark.sql import SparkSession\n",
        "spark = SparkSession.builder.appName('primeros_pasos').getOrCreate()"
      ],
      "metadata": {
        "id": "GQZCB--1CHyE"
      },
      "execution_count": 111,
      "outputs": []
    },
    {
      "cell_type": "markdown",
      "source": [
        "*Carga de datos en crudo de los comentarios Twitter desde un archivo csv*"
      ],
      "metadata": {
        "id": "bdV4jau6EFUV"
      }
    },
    {
      "cell_type": "code",
      "source": [
        "df_tweets = spark.read.csv('CSV_primitivo.csv', header = True, encoding='latin1',sep = ';', inferSchema=True)"
      ],
      "metadata": {
        "id": "RD_CZCr6EF44"
      },
      "execution_count": 117,
      "outputs": []
    },
    {
      "cell_type": "code",
      "source": [
        "df_tweets.show()"
      ],
      "metadata": {
        "colab": {
          "base_uri": "https://localhost:8080/"
        },
        "id": "laFRLIExRRX5",
        "outputId": "d1d5a9d7-c7c5-4919-fde5-7aa14d202984"
      },
      "execution_count": 118,
      "outputs": [
        {
          "output_type": "stream",
          "name": "stdout",
          "text": [
            "+----+----------------+--------+---------+---------------+--------------------+----------------+\n",
            "|Item|        Username|Comments|Favorites|           Date|               Tweet|Author Followers|\n",
            "+----+----------------+--------+---------+---------------+--------------------+----------------+\n",
            "|   1|  Aventurero8415|    NULL|     NULL|6/10/2023 19:27|@larepublica_pe @...|             369|\n",
            "|   2|       Azathot00|    NULL|     NULL|6/10/2023 15:09|@larepublica_pe @...|              24|\n",
            "|   3|       A87385106|    NULL|     NULL|8/10/2023 00:53|@larepublica_pe @...|               1|\n",
            "|   4| AdrianCarmelo01|    NULL|        1|6/10/2023 20:44|@larepublica_pe @...|               6|\n",
            "|   5|   AlbertoPeUsEs|    NULL|     NULL|7/10/2023 01:21|@larepublica_pe @...|               2|\n",
            "|   6| Alejand11416630|    NULL|        1|6/10/2023 17:46|@larepublica_pe @...|               1|\n",
            "|   7| Alejand45315784|    NULL|     NULL|8/10/2023 00:43|@larepublica_pe @...|              85|\n",
            "|   8|  tabernero_alex|    NULL|     NULL|6/10/2023 15:27|@larepublica_pe @...|              26|\n",
            "|   9|       Alexgomu_|    NULL|     NULL|6/10/2023 14:47|@larepublica_pe @...|             924|\n",
            "|  10|      @Alexgomu_|    NULL|     NULL|         6 oct.|@larepublica_pe @...|            NULL|\n",
            "|  11|  AliagaDeAragon|    NULL|     NULL|6/10/2023 17:31|@larepublica_pe @...|             135|\n",
            "|  12| Andreav09271851|    NULL|     NULL|7/10/2023 01:43|@larepublica_pe @...|               6|\n",
            "|  13| @AngelBaldeon14|    NULL|     NULL|         6 oct.|@larepublica_pe @...|            NULL|\n",
            "|  14|  AngelBaldeon14|    NULL|     NULL|6/10/2023 22:07|@larepublica_pe @...|              27|\n",
            "|  15|     AngelFalse8|    NULL|     NULL|6/10/2023 23:18|@larepublica_pe @...|              24|\n",
            "|  16|       Bryancg23|    NULL|        1|6/10/2023 14:30|@larepublica_pe @...|              20|\n",
            "|  17|@CarinaSarmien10|    NULL|     NULL|         6 oct.|@larepublica_pe @...|            NULL|\n",
            "|  18|  Carlos26228899|    NULL|     NULL|6/10/2023 23:26|@larepublica_pe @...|             685|\n",
            "|  19| @Carlos26228899|    NULL|     NULL|         6 oct.|@larepublica_pe @...|            NULL|\n",
            "|  20|    elcrackerman|    NULL|     NULL|6/10/2023 13:40|@larepublica_pe @...|              34|\n",
            "+----+----------------+--------+---------+---------------+--------------------+----------------+\n",
            "only showing top 20 rows\n",
            "\n"
          ]
        }
      ]
    },
    {
      "cell_type": "code",
      "source": [
        "df_tweets.count()"
      ],
      "metadata": {
        "colab": {
          "base_uri": "https://localhost:8080/"
        },
        "id": "nGCrRfdUnori",
        "outputId": "a858b148-65b6-4516-ea6b-61fca3e167fa"
      },
      "execution_count": 119,
      "outputs": [
        {
          "output_type": "execute_result",
          "data": {
            "text/plain": [
              "140"
            ]
          },
          "metadata": {},
          "execution_count": 119
        }
      ]
    },
    {
      "cell_type": "markdown",
      "source": [
        "*Selección de columnas para analisis de datos*"
      ],
      "metadata": {
        "id": "U1j59VRCEwo3"
      }
    },
    {
      "cell_type": "code",
      "source": [
        "df_tweets = df_tweets.select('Username', 'Comments', 'Favorites', 'Date', 'Tweet','Author Followers')\n",
        "df_tweets.show(140)"
      ],
      "metadata": {
        "id": "u3VnVLc5ExBT",
        "colab": {
          "base_uri": "https://localhost:8080/"
        },
        "outputId": "73ced4ac-3c9d-4059-9c51-b64006927434"
      },
      "execution_count": 121,
      "outputs": [
        {
          "output_type": "stream",
          "name": "stdout",
          "text": [
            "+----------------+--------+---------+---------------+--------------------+----------------+\n",
            "|        Username|Comments|Favorites|           Date|               Tweet|Author Followers|\n",
            "+----------------+--------+---------+---------------+--------------------+----------------+\n",
            "|  Aventurero8415|    NULL|     NULL|6/10/2023 19:27|@larepublica_pe @...|             369|\n",
            "|       Azathot00|    NULL|     NULL|6/10/2023 15:09|@larepublica_pe @...|              24|\n",
            "|       A87385106|    NULL|     NULL|8/10/2023 00:53|@larepublica_pe @...|               1|\n",
            "| AdrianCarmelo01|    NULL|        1|6/10/2023 20:44|@larepublica_pe @...|               6|\n",
            "|   AlbertoPeUsEs|    NULL|     NULL|7/10/2023 01:21|@larepublica_pe @...|               2|\n",
            "| Alejand11416630|    NULL|        1|6/10/2023 17:46|@larepublica_pe @...|               1|\n",
            "| Alejand45315784|    NULL|     NULL|8/10/2023 00:43|@larepublica_pe @...|              85|\n",
            "|  tabernero_alex|    NULL|     NULL|6/10/2023 15:27|@larepublica_pe @...|              26|\n",
            "|       Alexgomu_|    NULL|     NULL|6/10/2023 14:47|@larepublica_pe @...|             924|\n",
            "|      @Alexgomu_|    NULL|     NULL|         6 oct.|@larepublica_pe @...|            NULL|\n",
            "|  AliagaDeAragon|    NULL|     NULL|6/10/2023 17:31|@larepublica_pe @...|             135|\n",
            "| Andreav09271851|    NULL|     NULL|7/10/2023 01:43|@larepublica_pe @...|               6|\n",
            "| @AngelBaldeon14|    NULL|     NULL|         6 oct.|@larepublica_pe @...|            NULL|\n",
            "|  AngelBaldeon14|    NULL|     NULL|6/10/2023 22:07|@larepublica_pe @...|              27|\n",
            "|     AngelFalse8|    NULL|     NULL|6/10/2023 23:18|@larepublica_pe @...|              24|\n",
            "|       Bryancg23|    NULL|        1|6/10/2023 14:30|@larepublica_pe @...|              20|\n",
            "|@CarinaSarmien10|    NULL|     NULL|         6 oct.|@larepublica_pe @...|            NULL|\n",
            "|  Carlos26228899|    NULL|     NULL|6/10/2023 23:26|@larepublica_pe @...|             685|\n",
            "| @Carlos26228899|    NULL|     NULL|         6 oct.|@larepublica_pe @...|            NULL|\n",
            "|    elcrackerman|    NULL|     NULL|6/10/2023 13:40|@larepublica_pe @...|              34|\n",
            "|   zavaleta_meza|    NULL|     NULL|8/10/2023 05:20|@larepublica_pe @...|               2|\n",
            "| carlosmoquilla5|    NULL|     NULL|6/10/2023 14:03|@larepublica_pe @...|               0|\n",
            "|  cazarte_carlos|       1|        5|6/10/2023 13:55|@larepublica_pe @...|             289|\n",
            "| @cazarte_carlos|    NULL|     NULL|         6 oct.|@larepublica_pe @...|            NULL|\n",
            "|            Kr2X|       4|       11|6/10/2023 12:18|@larepublica_pe @...|              71|\n",
            "|        pcentenc|    NULL|     NULL|6/10/2023 17:55|@larepublica_pe @...|               4|\n",
            "|          CWanqa|    NULL|       10|6/10/2023 12:06|@larepublica_pe @...|             406|\n",
            "|    Chocolatex26|    NULL|     NULL|6/10/2023 18:13|@larepublica_pe @...|              40|\n",
            "|          dvch70|    NULL|     NULL|6/10/2023 21:58|@larepublica_pe @...|              72|\n",
            "|        Danthex1|    NULL|     NULL|7/10/2023 22:54|@larepublica_pe @...|               3|\n",
            "|    dmartinez178|       2|     NULL|6/10/2023 12:39|@larepublica_pe @...|              85|\n",
            "|         Dabe_12|    NULL|        1|6/10/2023 16:07|@larepublica_pe @...|              18|\n",
            "|        @Dabe_12|    NULL|     NULL|         6 oct.|\"@larepublica_pe ...|            NULL|\n",
            "|  DeliaMercedes2|    NULL|     NULL|9/10/2023 19:02|@larepublica_pe @...|              35|\n",
            "|    Dennis_PE123|    NULL|        2|6/10/2023 15:27|@larepublica_pe @...|              71|\n",
            "|  @DoNotFollow74|    NULL|     NULL|         7 oct.|@larepublica_pe @...|            NULL|\n",
            "|        Eddy0074|       1|        7|6/10/2023 14:25|\"@larepublica_pe ...|             305|\n",
            "|            e2hd|    NULL|     NULL|6/10/2023 14:47|@larepublica_pe @...|              11|\n",
            "|   el_misioneroo|    NULL|     NULL|6/10/2023 19:59|@larepublica_pe @...|               0|\n",
            "|    edwinabarcam|       5|        7|6/10/2023 14:49|@larepublica_pe @...|              36|\n",
            "|   Cesar97792858|    NULL|     NULL|6/10/2023 17:38|@larepublica_pe @...|              34|\n",
            "|  El_descamisado|    NULL|        2|6/10/2023 13:06|@larepublica_pe @...|             350|\n",
            "|       ElChrisXP|    NULL|     NULL|7/10/2023 01:31|@larepublica_pe @...|             163|\n",
            "|       CardenEli|    NULL|       27|6/10/2023 12:24|@larepublica_pe @...|             152|\n",
            "|  SofiaCalvoDaza|    NULL|        1|6/10/2023 14:09|@larepublica_pe @...|             380|\n",
            "| @SofiaCalvoDaza|    NULL|     NULL|         6 oct.|@larepublica_pe @...|            NULL|\n",
            "| elvisbonillato1|    NULL|        1|6/10/2023 14:54|@larepublica_pe @...|               0|\n",
            "|   Felix66817911|    NULL|        3|6/10/2023 14:26|@larepublica_pe @...|              64|\n",
            "|    unoinfinito1|    NULL|        1|6/10/2023 12:30|@larepublica_pe @...|              83|\n",
            "|   @unoinfinito1|    NULL|     NULL|         6 oct.|@larepublica_pe @...|            NULL|\n",
            "| AlguiarFiorella|    NULL|       23|6/10/2023 12:23|@larepublica_pe @...|              60|\n",
            "|      lazaro1975|      13|        7|6/10/2023 14:33|@larepublica_pe @...|             262|\n",
            "|    gabrielal4m0|       2|       33|6/10/2023 13:20|@larepublica_pe @...|            1059|\n",
            "|        GaelRz04|    NULL|     NULL|8/10/2023 02:05|@larepublica_pe @...|              17|\n",
            "|          rommyb|       3|       51|6/10/2023 12:29|@larepublica_pe @...|             658|\n",
            "|  Gonzales_1tusa|    NULL|     NULL|7/10/2023 17:28|@larepublica_pe @...|               0|\n",
            "|  monteguillermo|    NULL|        3|6/10/2023 14:31|@larepublica_pe @...|              18|\n",
            "|         gustbum|    NULL|     NULL|6/10/2023 18:19|@larepublica_pe @...|              43|\n",
            "|    HijaDeSastre|    NULL|        3|6/10/2023 16:14|@larepublica_pe @...|             161|\n",
            "| ConsejosEsquina|    NULL|     NULL|6/10/2023 17:07|@larepublica_pe @...|             361|\n",
            "|    jorgeluislzr|    NULL|     NULL|7/10/2023 11:10|@larepublica_pe @...|             193|\n",
            "|      bastos_j98|    NULL|        2|6/10/2023 14:05|@larepublica_pe @...|              19|\n",
            "|        javpalle|    NULL|     NULL|7/10/2023 13:07|@larepublica_pe @...|             203|\n",
            "|      turdepeish|       3|        8|6/10/2023 12:24|\"@larepublica_pe ...|             140|\n",
            "|        jgaguedo|    NULL|     NULL|7/10/2023 03:21|@larepublica_pe @...|             248|\n",
            "|       @jgaguedo|    NULL|     NULL|         6 oct.|@larepublica_pe @...|            NULL|\n",
            "|      jhencg3005|    NULL|     NULL|6/10/2023 21:59|@larepublica_pe @...|              72|\n",
            "|     JhonnyLicla|    NULL|     NULL|7/10/2023 15:41|@larepublica_pe @...|               0|\n",
            "| MyCodeGenerator|    NULL|        1|7/10/2023 19:11|@larepublica_pe @...|              54|\n",
            "|    hannibal0309|    NULL|        2|6/10/2023 23:47|@larepublica_pe @...|             491|\n",
            "|   @hannibal0309|    NULL|     NULL|         6 oct.|@larepublica_pe @...|            NULL|\n",
            "|    Joel74752671|    NULL|     NULL|6/10/2023 19:30|@larepublica_pe @...|               0|\n",
            "|     jordanmc197|    NULL|        2|6/10/2023 20:37|@larepublica_pe @...|             131|\n",
            "|      @jorgealfi|    NULL|     NULL|         6 oct.|@larepublica_pe @...|            NULL|\n",
            "|       jorgealfi|    NULL|        1|6/10/2023 12:20|@larepublica_pe @...|               9|\n",
            "|       EliabHahu|    NULL|     NULL|7/10/2023 07:19|@larepublica_pe @...|              63|\n",
            "|@JorgeVi56085970|    NULL|     NULL|         7 oct.|\"@larepublica_pe ...|            NULL|\n",
            "|    alvarezmin85|    NULL|     NULL|7/10/2023 10:02|@larepublica_pe @...|               4|\n",
            "|     @cerrobaulo|    NULL|     NULL|         6 oct.|@larepublica_pe @...|            NULL|\n",
            "|      cerrobaulo|    NULL|     NULL|7/10/2023 11:32|\"@larepublica_pe ...|              39|\n",
            "|     carlitosjj9|    NULL|     NULL|7/10/2023 00:08|@larepublica_pe @...|              15|\n",
            "|  kevin778271282|    NULL|     NULL|6/10/2023 15:29|@larepublica_pe @...|              12|\n",
            "|       kurtnolte|    NULL|        1|6/10/2023 22:55|@larepublica_pe @...|             108|\n",
            "|  larepublica_pe|     170|      395|6/10/2023 12:05|?? Policías podrá...|         3013243|\n",
            "|     LCairampoma|    NULL|        6|6/10/2023 13:04|@larepublica_pe @...|              42|\n",
            "|          lyzzba|       1|        3|6/10/2023 12:39|@larepublica_pe @...|             144|\n",
            "|       z_bird986|    NULL|     NULL|         6 oct.|@larepublica_pe @...|            NULL|\n",
            "|       z_bird987|    NULL|        1|6/10/2023 21:25|@larepublica_pe @...|             110|\n",
            "|   LouisAlbertX1|    NULL|        2|6/10/2023 12:32|@larepublica_pe @...|               0|\n",
            "|      LAMPA_2287|    NULL|     NULL|6/10/2023 13:58|@larepublica_pe @...|             717|\n",
            "| LuisAri77761564|    NULL|     NULL|6/10/2023 21:50|@larepublica_pe @...|               1|\n",
            "| EternoLuissb901|    NULL|     NULL|6/10/2023 22:54|@larepublica_pe @...|              43|\n",
            "| LuisLop10772090|    NULL|        2|6/10/2023 15:43|@larepublica_pe @...|               4|\n",
            "|    LukioTercer0|    NULL|     NULL|8/10/2023 10:58|@larepublica_pe @...|               2|\n",
            "| marcialjr271794|    NULL|     NULL|6/10/2023 15:22|@larepublica_pe @...|               0|\n",
            "|   HinojosaSpike|    NULL|     NULL|6/10/2023 17:18|@larepublica_pe @...|             354|\n",
            "| Mariela86408109|    NULL|        1|6/10/2023 13:00|@larepublica_pe @...|               5|\n",
            "|    MarkusRonjam|    NULL|        2|6/10/2023 14:14|@larepublica_pe @...|             325|\n",
            "|      MauroLazar|    NULL|        3|6/10/2023 13:48|@larepublica_pe @...|             377|\n",
            "|     mery_coila3|    NULL|     NULL|7/10/2023 06:20|@larepublica_pe @...|              39|\n",
            "| MiguelA04899081|    NULL|     NULL|6/10/2023 14:42|@larepublica_pe @...|               0|\n",
            "| MiguelSandovalA|    NULL|     NULL|6/10/2023 21:37|@larepublica_pe @...|              59|\n",
            "|       hipp_life|    NULL|     NULL|6/10/2023 15:25|@larepublica_pe @...|              23|\n",
            "|     monikademon|    NULL|        2|6/10/2023 12:27|@larepublica_pe @...|             617|\n",
            "|      Morga_Ezra|       1|     NULL|6/10/2023 16:51|\"@larepublica_pe ...|               5|\n",
            "|       jodetx666|    NULL|        1|6/10/2023 12:15|@larepublica_pe @...|               6|\n",
            "|         OccPeru|    NULL|     NULL|6/10/2023 18:12|@larepublica_pe L...|              24|\n",
            "|      3Orlando88|    NULL|        1|7/10/2023 08:10|@larepublica_pe @...|              43|\n",
            "| OrlandoFalconT1|       2|       10|6/10/2023 14:33|@larepublica_pe @...|               7|\n",
            "| OscarFloresfl74|    NULL|     NULL|6/10/2023 19:55|\"@larepublica_pe ...|               1|\n",
            "|   Pablo01193063|    NULL|        4|6/10/2023 17:04|@larepublica_pe @...|               3|\n",
            "|    @PaitaOnLine|    NULL|     NULL|         6 oct.|@larepublica_pe @...|            NULL|\n",
            "|  pajaroazulperu|    NULL|        1|6/10/2023 12:54|@larepublica_pe @...|            2828|\n",
            "|       renzo_uni|    NULL|     NULL|6/10/2023 13:37|@larepublica_pe @...|              37|\n",
            "|     PattyAcurio|    NULL|     NULL|6/10/2023 14:58|@larepublica_pe @...|              30|\n",
            "|    @PattyAcurio|    NULL|     NULL|         6 oct.|@larepublica_pe @...|            NULL|\n",
            "|      percobless|    NULL|     NULL|6/10/2023 14:09|@larepublica_pe @...|               1|\n",
            "|   el_indigente3|    NULL|        1|6/10/2023 14:08|@larepublica_pe @...|              65|\n",
            "|   Cesar_Marin_M|    NULL|     NULL|7/10/2023 01:50|@larepublica_pe @...|               8|\n",
            "|   renayleoj1995|    NULL|     NULL|7/10/2023 01:12|@larepublica_pe @...|               1|\n",
            "|      Rick_oso24|    NULL|        1|6/10/2023 17:13|@larepublica_pe @...|               1|\n",
            "|     @robertoomb|    NULL|     NULL|         6 oct.|@larepublica_pe @...|            NULL|\n",
            "|       Rommyloch|    NULL|     NULL|8/10/2023 03:37|@larepublica_pe @...|              44|\n",
            "|      rosarucoba|    NULL|     NULL|6/10/2023 16:12|@larepublica_pe @...|             246|\n",
            "|  cordova_rusbel|    NULL|     NULL|7/10/2023 13:15|@larepublica_pe @...|              21|\n",
            "|   @SalchiAvalos|    NULL|     NULL|         6 oct.|@larepublica_pe @...|            NULL|\n",
            "|    SalchiAvalos|    NULL|     NULL|6/10/2023 15:28|@larepublica_pe @...|             182|\n",
            "|      ventiisick|    NULL|     NULL|6/10/2023 16:12|@larepublica_pe @...|              33|\n",
            "| PolloFarsentePe|    NULL|     NULL|6/10/2023 12:30|@larepublica_pe @...|              31|\n",
            "|  valdivia345tom|    NULL|     NULL|8/10/2023 00:40|\"@larepublica_pe ...|               1|\n",
            "|     THomofobico|    NULL|     NULL|6/10/2023 19:11|@larepublica_pe @...|              29|\n",
            "| vituchomanuel07|    NULL|        1|6/10/2023 14:33|@larepublica_pe @...|             181|\n",
            "|      JudithSuly|    NULL|     NULL|7/10/2023 17:06|@larepublica_pe @...|               3|\n",
            "| @vivalibertadpe|    NULL|     NULL|         7 oct.|@larepublica_pe @...|            NULL|\n",
            "|     Junior_0311|       1|       20|6/10/2023 13:54|@larepublica_pe @...|            2510|\n",
            "|          yaclyn|    NULL|        5|6/10/2023 14:48|@larepublica_pe @...|             115|\n",
            "|         @yaclyn|    NULL|     NULL|         6 oct.|@larepublica_pe @...|            NULL|\n",
            "|     YorshCarlin|       1|        8|6/10/2023 14:27|@larepublica_pe @...|             106|\n",
            "|         ZAlmasy|    NULL|     NULL|6/10/2023 18:46|@larepublica_pe @...|             103|\n",
            "| lexanderhelbert|    NULL|        1|7/10/2023 02:45|@larepublica_pe @...|            5340|\n",
            "+----------------+--------+---------+---------------+--------------------+----------------+\n",
            "\n"
          ]
        }
      ]
    },
    {
      "cell_type": "markdown",
      "source": [
        "*Mostramos las forma de los datos según inferencia de pySpark *"
      ],
      "metadata": {
        "id": "xFBvJ5uwSunn"
      }
    },
    {
      "cell_type": "code",
      "source": [
        "df_tweets.printSchema()"
      ],
      "metadata": {
        "colab": {
          "base_uri": "https://localhost:8080/"
        },
        "id": "vBJDDgedIvJy",
        "outputId": "1478f714-4b13-4341-8e11-acb9af028da1"
      },
      "execution_count": 122,
      "outputs": [
        {
          "output_type": "stream",
          "name": "stdout",
          "text": [
            "root\n",
            " |-- Username: string (nullable = true)\n",
            " |-- Comments: integer (nullable = true)\n",
            " |-- Favorites: integer (nullable = true)\n",
            " |-- Date: string (nullable = true)\n",
            " |-- Tweet: string (nullable = true)\n",
            " |-- Author Followers: integer (nullable = true)\n",
            "\n"
          ]
        }
      ]
    },
    {
      "cell_type": "code",
      "source": [
        "df_tweets.count()"
      ],
      "metadata": {
        "colab": {
          "base_uri": "https://localhost:8080/"
        },
        "id": "4AynxVUSr5Xa",
        "outputId": "f087b20a-f0d4-4f50-dae4-33d98b261d59"
      },
      "execution_count": 123,
      "outputs": [
        {
          "output_type": "execute_result",
          "data": {
            "text/plain": [
              "140"
            ]
          },
          "metadata": {},
          "execution_count": 123
        }
      ]
    },
    {
      "cell_type": "code",
      "source": [
        "#Limpieza de datos duplicados..\n",
        "#df_tweets.count()\n",
        "df_tweets=df_tweets.dropDuplicates()"
      ],
      "metadata": {
        "id": "Q7Rd9M-drEDK"
      },
      "execution_count": 124,
      "outputs": []
    },
    {
      "cell_type": "code",
      "source": [
        "df_tweets.count()"
      ],
      "metadata": {
        "colab": {
          "base_uri": "https://localhost:8080/"
        },
        "id": "sW6h1ungr_6y",
        "outputId": "d2870c16-9d60-4aae-ad09-fe377c936e8c"
      },
      "execution_count": 125,
      "outputs": [
        {
          "output_type": "execute_result",
          "data": {
            "text/plain": [
              "140"
            ]
          },
          "metadata": {},
          "execution_count": 125
        }
      ]
    },
    {
      "cell_type": "code",
      "source": [
        "# Limpieza de datos nulos - Elimina una fila siempre que la columna \"Tweet text contega registro nulos.\".\n",
        "df_tweets.na.drop(subset=[\"Tweet\"]).show(truncate=False)\n",
        "\n",
        "df_tweets.count()"
      ],
      "metadata": {
        "colab": {
          "base_uri": "https://localhost:8080/"
        },
        "outputId": "2a82c98a-f397-4753-975c-22743e86144a",
        "id": "JYgneqe3eqcv"
      },
      "execution_count": 126,
      "outputs": [
        {
          "output_type": "stream",
          "name": "stdout",
          "text": [
            "+---------------+--------+---------+---------------+-------------------------------------------------------------------------------------------------------------------------------------------------------------------------------------------------------------------------------------------------------------------------------------------------------------------+----------------+\n",
            "|Username       |Comments|Favorites|Date           |Tweet                                                                                                                                                                                                                                                                                                              |Author Followers|\n",
            "+---------------+--------+---------+---------------+-------------------------------------------------------------------------------------------------------------------------------------------------------------------------------------------------------------------------------------------------------------------------------------------------------------------+----------------+\n",
            "|turdepeish     |3       |8        |6/10/2023 12:24|\"@larepublica_pe @jesicaleon Hace rato era, no faltaran los sjw a decir \"\"ayy diktadurah ayy mis dhereshoz umanoz\"\", sarta de babosos.\"                                                                                                                                                                            |140             |\n",
            "|larepublica_pe |170     |395      |6/10/2023 12:05|?? Policías podrán retener a civiles hasta por 4 horasSi no tienen DNI. Intervendrán a quienes vean sospechosos y no será necesaria la presencia de un juez o fiscal, según decreto.? Jesica León [@jesicaleon]https://t.co/Kc3aIf8TzH                                                                             |3013243         |\n",
            "|lazaro1975     |13      |7        |6/10/2023 14:33|@larepublica_pe @jesicaleon Desde hace casi 30 años salgo siempre con mis documentos no solo en Perú sino en el extranjero... CUAL ES EL PROBLEMA???... el que no la debe no la teme... cuanto delincuente con requisitoria se pasea libre                                                                         |262             |\n",
            "|cazarte_carlos |1       |5        |6/10/2023 13:55|@larepublica_pe @jesicaleon ,  maravilla, la penepe con competencias de juez!!! El país es maravilloso, la mente creativa de dónde salió el proyecto debe ser muuuuuy inteligente !!!                                                                                                                              |289             |\n",
            "|gabrielal4m0   |2       |33       |6/10/2023 13:20|@larepublica_pe @jfowks @jesicaleon La modificación del código no ha afectado esa parte. La noticia debería ser q la penepé puede detenerte hasta DOCE horas si sales sin documentos y sospechan q eres extranjero (o lo eres). Se presta a discriminación y acciones arbitrarias contra población vulnerable.     |1059            |\n",
            "|YorshCarlin    |1       |8        |6/10/2023 14:27|@larepublica_pe @jesicaleon Una puerta abierta al abuso policial.Incluso teniendo DNI pero llevando carga te podrían extorsionar para darles propina a cambio de evitarte demoras y revisión de tus cosas (sin ningún indicio real de delito flagrante). Pero Lima quiere esto,apoyó y en su indiferencia lo valida|106             |\n",
            "|rommyb         |3       |51       |6/10/2023 12:29|@larepublica_pe @jesicaleon ¿Detendrán a delincuentes de la Pestilencia? ¿O dejarán libres a autorxs comprobadxs para concentrarse sospechosamente solo en 'sospechosxs'?                                                                                                                                          |658             |\n",
            "|Junior_0311    |1       |20       |6/10/2023 13:54|@larepublica_pe @jesicaleon Ptm o sea a quien les de la gana                                                                                                                                                                                                                                                       |2510            |\n",
            "|Eddy0074       |1       |7        |6/10/2023 14:25|\"@larepublica_pe @jesicaleon Bonita \"\"democracia\"\" ,la que nos está dejando la derecha y sus matones.\"                                                                                                                                                                                                             |305             |\n",
            "|edwinabarcam   |5       |7        |6/10/2023 14:49|@larepublica_pe @jesicaleon En pleno 2023, con tanta tecnología y hay que necesitar un carnet para que nos identifiquen, de lo contrario te puedes ir detenido un par se horas. Tranquilamente dictando nuestro número de DNI podríamos ser identificados en el sistema, pero no, siguen con sus normas de los 60. |36              |\n",
            "|lyzzba         |1       |3        |6/10/2023 12:39|@larepublica_pe @jesicaleon Inaceptable que entremos en una clara violación de DDHH. que esperan para derogarlo, @TC_Peru @Defensoria_Peru                                                                                                                                                                         |144             |\n",
            "|OrlandoFalconT1|2       |10       |6/10/2023 14:33|@larepublica_pe @jesicaleon Qué pasa sin un ser de luz con uniforme, que en la mayoría de casos son unos delincuentes con placa, esconden el dni, así como hacen cuando te quitan los documentos del auto, primero purgar la policía y luego vemos leyes que les den más autoridad..                               |7               |\n",
            "|Kr2X           |4       |11       |6/10/2023 12:18|@larepublica_pe @jesicaleon Y adivinen la zonas que no iran a pedir !!! Sii en la zonas pitucas de Lima                                                                                                                                                                                                            |71              |\n",
            "|ElChrisXP      |NULL    |NULL     |7/10/2023 01:31|@larepublica_pe @jesicaleon ya estamos en una dictadura autorizada por el congreso :V                                                                                                                                                                                                                              |163             |\n",
            "|renzo_uni      |NULL    |NULL     |6/10/2023 13:37|@larepublica_pe @jesicaleon Cada vez más cerca de un estado totalitario al estilo nazi                                                                                                                                                                                                                             |37              |\n",
            "|ventiisick     |NULL    |NULL     |6/10/2023 16:12|@larepublica_pe @jesicaleon huevadas nomas hacen                                                                                                                                                                                                                                                                   |33              |\n",
            "|unoinfinito1   |NULL    |1        |6/10/2023 12:30|@larepublica_pe @jesicaleon Esto es una barbaridad. ¿En manos de quién estamos?                                                                                                                                                                                                                                    |83              |\n",
            "|cordova_rusbel |NULL    |NULL     |7/10/2023 13:15|@larepublica_pe @jesicaleon Darle más poder a unos buenos para nada                                                                                                                                                                                                                                                |21              |\n",
            "|@vivalibertadpe|NULL    |NULL     |7 oct.         |@larepublica_pe @jesicaleon Muy bien ??????y que se larguen los cojudos de los DDHH                                                                                                                                                                                                                                |NULL            |\n",
            "|javpalle       |NULL    |NULL     |7/10/2023 13:07|@larepublica_pe @jesicaleon Irá la Policía a las zonas peligrosas de las ciudades                                                                                                                                                                                                                                  |203             |\n",
            "+---------------+--------+---------+---------------+-------------------------------------------------------------------------------------------------------------------------------------------------------------------------------------------------------------------------------------------------------------------------------------------------------------------+----------------+\n",
            "only showing top 20 rows\n",
            "\n"
          ]
        },
        {
          "output_type": "execute_result",
          "data": {
            "text/plain": [
              "140"
            ]
          },
          "metadata": {},
          "execution_count": 126
        }
      ]
    },
    {
      "cell_type": "code",
      "source": [
        "df_tweets.select('Tweet').show()\n",
        "df_tweets.count()"
      ],
      "metadata": {
        "colab": {
          "base_uri": "https://localhost:8080/"
        },
        "id": "Mbiy70AGsIWy",
        "outputId": "c032f274-3716-46e9-c996-ac2373c7ec5b"
      },
      "execution_count": 127,
      "outputs": [
        {
          "output_type": "stream",
          "name": "stdout",
          "text": [
            "+--------------------+\n",
            "|               Tweet|\n",
            "+--------------------+\n",
            "|\"@larepublica_pe ...|\n",
            "|?? Policías podrá...|\n",
            "|@larepublica_pe @...|\n",
            "|@larepublica_pe @...|\n",
            "|@larepublica_pe @...|\n",
            "|@larepublica_pe @...|\n",
            "|@larepublica_pe @...|\n",
            "|@larepublica_pe @...|\n",
            "|\"@larepublica_pe ...|\n",
            "|@larepublica_pe @...|\n",
            "|@larepublica_pe @...|\n",
            "|@larepublica_pe @...|\n",
            "|@larepublica_pe @...|\n",
            "|@larepublica_pe @...|\n",
            "|@larepublica_pe @...|\n",
            "|@larepublica_pe @...|\n",
            "|@larepublica_pe @...|\n",
            "|@larepublica_pe @...|\n",
            "|@larepublica_pe @...|\n",
            "|@larepublica_pe @...|\n",
            "+--------------------+\n",
            "only showing top 20 rows\n",
            "\n"
          ]
        },
        {
          "output_type": "execute_result",
          "data": {
            "text/plain": [
              "140"
            ]
          },
          "metadata": {},
          "execution_count": 127
        }
      ]
    },
    {
      "cell_type": "code",
      "source": [
        "#Completa registros nulls\n",
        "df_tweets2=df_tweets.fillna({'Username': 'Desconocido','Date':0,'Comments':0,'Favorites':0,'Author Followers':0})"
      ],
      "metadata": {
        "id": "_9qS0ghO51qI"
      },
      "execution_count": 128,
      "outputs": []
    },
    {
      "cell_type": "code",
      "source": [
        "#Reemplazar una cadena \"@larepublica_pe @jesicaleon\" por otra cadena.\n",
        "\n",
        "from pyspark.sql.functions import regexp_replace\n",
        "df_tweets2=df_tweets2.withColumn('Tweet', regexp_replace('Tweet', '@larepublica_pe @jesicaleon', ''))\n",
        "df_tweets2=df_tweets2.withColumn('Tweet', regexp_replace('Tweet', '@larepublica_pe', ''))\n",
        "df_tweets2=df_tweets2.withColumn('Tweet', regexp_replace('Tweet', '@jesicaleon', ''))"
      ],
      "metadata": {
        "id": "ISxh33sv5WAH"
      },
      "execution_count": 129,
      "outputs": []
    },
    {
      "cell_type": "markdown",
      "source": [],
      "metadata": {
        "id": "wkXJRIhC6wWm"
      }
    },
    {
      "cell_type": "code",
      "source": [
        "df_tweets2.show()"
      ],
      "metadata": {
        "colab": {
          "base_uri": "https://localhost:8080/"
        },
        "id": "gooOMprkeJLY",
        "outputId": "4b2da7b5-16ab-4462-877c-dbb01ee6cd23"
      },
      "execution_count": 130,
      "outputs": [
        {
          "output_type": "stream",
          "name": "stdout",
          "text": [
            "+---------------+--------+---------+---------------+--------------------+----------------+\n",
            "|       Username|Comments|Favorites|           Date|               Tweet|Author Followers|\n",
            "+---------------+--------+---------+---------------+--------------------+----------------+\n",
            "|     turdepeish|       3|        8|6/10/2023 12:24|\" Hace rato era, ...|             140|\n",
            "| larepublica_pe|     170|      395|6/10/2023 12:05|?? Policías podrá...|         3013243|\n",
            "|     lazaro1975|      13|        7|6/10/2023 14:33| Desde hace casi ...|             262|\n",
            "| cazarte_carlos|       1|        5|6/10/2023 13:55| ,  maravilla, la...|             289|\n",
            "|   gabrielal4m0|       2|       33|6/10/2023 13:20| @jfowks  La modi...|            1059|\n",
            "|    YorshCarlin|       1|        8|6/10/2023 14:27| Una puerta abier...|             106|\n",
            "|         rommyb|       3|       51|6/10/2023 12:29| ¿Detendrán a del...|             658|\n",
            "|    Junior_0311|       1|       20|6/10/2023 13:54| Ptm o sea a quie...|            2510|\n",
            "|       Eddy0074|       1|        7|6/10/2023 14:25|\" Bonita \"\"democr...|             305|\n",
            "|   edwinabarcam|       5|        7|6/10/2023 14:49| En pleno 2023, c...|              36|\n",
            "|         lyzzba|       1|        3|6/10/2023 12:39| Inaceptable que ...|             144|\n",
            "|OrlandoFalconT1|       2|       10|6/10/2023 14:33| Qué pasa sin un ...|               7|\n",
            "|           Kr2X|       4|       11|6/10/2023 12:18| Y adivinen la zo...|              71|\n",
            "|      ElChrisXP|       0|        0|7/10/2023 01:31| ya estamos en un...|             163|\n",
            "|      renzo_uni|       0|        0|6/10/2023 13:37| Cada vez más cer...|              37|\n",
            "|     ventiisick|       0|        0|6/10/2023 16:12| huevadas nomas h...|              33|\n",
            "|   unoinfinito1|       0|        1|6/10/2023 12:30| Esto es una barb...|              83|\n",
            "| cordova_rusbel|       0|        0|7/10/2023 13:15| Darle más poder ...|              21|\n",
            "|@vivalibertadpe|       0|        0|         7 oct.| Muy bien ??????y...|               0|\n",
            "|       javpalle|       0|        0|7/10/2023 13:07| Irá la Policía a...|             203|\n",
            "+---------------+--------+---------+---------------+--------------------+----------------+\n",
            "only showing top 20 rows\n",
            "\n"
          ]
        }
      ]
    },
    {
      "cell_type": "code",
      "source": [
        "df_tweets2.count()"
      ],
      "metadata": {
        "colab": {
          "base_uri": "https://localhost:8080/"
        },
        "id": "yErMBOnMrCjI",
        "outputId": "6af282b7-07ae-4e3d-ec2c-65e71cd5c4a4"
      },
      "execution_count": 131,
      "outputs": [
        {
          "output_type": "execute_result",
          "data": {
            "text/plain": [
              "140"
            ]
          },
          "metadata": {},
          "execution_count": 131
        }
      ]
    },
    {
      "cell_type": "code",
      "source": [
        "#Reemplazar una cadena \"@larepublica_pe @jesicaleon\" por otra cadena.\n",
        "\n",
        "import pandas as pd\n",
        "import numpy as np\n",
        "\n",
        "\n",
        "# Enable Arrow-based columnar data transfers\n",
        "spark.conf.set(\"spark.sql.execution.arrow.pyspark.enabled\", \"true\")\n",
        "\n",
        "result_comentarios= df_tweets2.select(\"*\").toPandas()\n",
        "\n",
        "print(result_comentarios)"
      ],
      "metadata": {
        "colab": {
          "base_uri": "https://localhost:8080/"
        },
        "id": "XexWQ8uFR-TX",
        "outputId": "3e1fd63e-3380-4716-ff0d-139276177922"
      },
      "execution_count": 132,
      "outputs": [
        {
          "output_type": "stream",
          "name": "stdout",
          "text": [
            "            Username  Comments  Favorites             Date  \\\n",
            "0         turdepeish         3          8  6/10/2023 12:24   \n",
            "1     larepublica_pe       170        395  6/10/2023 12:05   \n",
            "2         lazaro1975        13          7  6/10/2023 14:33   \n",
            "3     cazarte_carlos         1          5  6/10/2023 13:55   \n",
            "4       gabrielal4m0         2         33  6/10/2023 13:20   \n",
            "..               ...       ...        ...              ...   \n",
            "135        z_bird986         0          0           6 oct.   \n",
            "136  @cazarte_carlos         0          0           6 oct.   \n",
            "137  MiguelA04899081         0          0  6/10/2023 14:42   \n",
            "138  LuisAri77761564         0          0  6/10/2023 21:50   \n",
            "139       Morga_Ezra         1          0  6/10/2023 16:51   \n",
            "\n",
            "                                                 Tweet  Author Followers  \n",
            "0    \" Hace rato era, no faltaran los sjw a decir \"...               140  \n",
            "1    ?? Policías podrán retener a civiles hasta por...           3013243  \n",
            "2     Desde hace casi 30 años salgo siempre con mis...               262  \n",
            "3     ,  maravilla, la penepe con competencias de j...               289  \n",
            "4     @jfowks  La modificación del código no ha afe...              1059  \n",
            "..                                                 ...               ...  \n",
            "135   A quienes vean sospechosos? O a quien creen q...                 0  \n",
            "136   La modificación del código no ha afectado esa...                 0  \n",
            "137   ¿Acusar y denunciar cuando están coimeando te...                 0  \n",
            "138                            Todo es negociable, no?                 1  \n",
            "139  \" Identificarse ante una autoridad debería ser...                 5  \n",
            "\n",
            "[140 rows x 6 columns]\n"
          ]
        }
      ]
    },
    {
      "cell_type": "code",
      "source": [
        "result_comentarios = result_comentarios.drop(1)\n",
        "result_comentarios"
      ],
      "metadata": {
        "colab": {
          "base_uri": "https://localhost:8080/",
          "height": 424
        },
        "id": "qHF146QKrJGN",
        "outputId": "65dff6a2-9a20-46fd-87fa-f098942f72cf"
      },
      "execution_count": 138,
      "outputs": [
        {
          "output_type": "execute_result",
          "data": {
            "text/plain": [
              "            Username  Comments  Favorites             Date  \\\n",
              "0         turdepeish         3          8  6/10/2023 12:24   \n",
              "2         lazaro1975        13          7  6/10/2023 14:33   \n",
              "3     cazarte_carlos         1          5  6/10/2023 13:55   \n",
              "4       gabrielal4m0         2         33  6/10/2023 13:20   \n",
              "5        YorshCarlin         1          8  6/10/2023 14:27   \n",
              "..               ...       ...        ...              ...   \n",
              "135        z_bird986         0          0           6 oct.   \n",
              "136  @cazarte_carlos         0          0           6 oct.   \n",
              "137  MiguelA04899081         0          0  6/10/2023 14:42   \n",
              "138  LuisAri77761564         0          0  6/10/2023 21:50   \n",
              "139       Morga_Ezra         1          0  6/10/2023 16:51   \n",
              "\n",
              "                                                 Tweet  Author Followers  \n",
              "0     hace rato era no faltaran los sjw a decir ayy...               140  \n",
              "2     desde hace casi 30 años salgo siempre con mis...               262  \n",
              "3       maravilla la penepe con competencias de jue...               289  \n",
              "4     jfowks  la modificación del código no ha afec...              1059  \n",
              "5     una puerta abierta al abuso policialincluso t...               106  \n",
              "..                                                 ...               ...  \n",
              "135   a quienes vean sospechosos o a quien creen qu...                 0  \n",
              "136   la modificación del código no ha afectado esa...                 0  \n",
              "137   ¿acusar y denunciar cuando están coimeando te...                 0  \n",
              "138                              todo es negociable no                 1  \n",
              "139   identificarse ante una autoridad debería ser ...                 5  \n",
              "\n",
              "[139 rows x 6 columns]"
            ],
            "text/html": [
              "\n",
              "  <div id=\"df-b9d5941c-8aca-4842-ac63-8253d65d5fe4\" class=\"colab-df-container\">\n",
              "    <div>\n",
              "<style scoped>\n",
              "    .dataframe tbody tr th:only-of-type {\n",
              "        vertical-align: middle;\n",
              "    }\n",
              "\n",
              "    .dataframe tbody tr th {\n",
              "        vertical-align: top;\n",
              "    }\n",
              "\n",
              "    .dataframe thead th {\n",
              "        text-align: right;\n",
              "    }\n",
              "</style>\n",
              "<table border=\"1\" class=\"dataframe\">\n",
              "  <thead>\n",
              "    <tr style=\"text-align: right;\">\n",
              "      <th></th>\n",
              "      <th>Username</th>\n",
              "      <th>Comments</th>\n",
              "      <th>Favorites</th>\n",
              "      <th>Date</th>\n",
              "      <th>Tweet</th>\n",
              "      <th>Author Followers</th>\n",
              "    </tr>\n",
              "  </thead>\n",
              "  <tbody>\n",
              "    <tr>\n",
              "      <th>0</th>\n",
              "      <td>turdepeish</td>\n",
              "      <td>3</td>\n",
              "      <td>8</td>\n",
              "      <td>6/10/2023 12:24</td>\n",
              "      <td>hace rato era no faltaran los sjw a decir ayy...</td>\n",
              "      <td>140</td>\n",
              "    </tr>\n",
              "    <tr>\n",
              "      <th>2</th>\n",
              "      <td>lazaro1975</td>\n",
              "      <td>13</td>\n",
              "      <td>7</td>\n",
              "      <td>6/10/2023 14:33</td>\n",
              "      <td>desde hace casi 30 años salgo siempre con mis...</td>\n",
              "      <td>262</td>\n",
              "    </tr>\n",
              "    <tr>\n",
              "      <th>3</th>\n",
              "      <td>cazarte_carlos</td>\n",
              "      <td>1</td>\n",
              "      <td>5</td>\n",
              "      <td>6/10/2023 13:55</td>\n",
              "      <td>maravilla la penepe con competencias de jue...</td>\n",
              "      <td>289</td>\n",
              "    </tr>\n",
              "    <tr>\n",
              "      <th>4</th>\n",
              "      <td>gabrielal4m0</td>\n",
              "      <td>2</td>\n",
              "      <td>33</td>\n",
              "      <td>6/10/2023 13:20</td>\n",
              "      <td>jfowks  la modificación del código no ha afec...</td>\n",
              "      <td>1059</td>\n",
              "    </tr>\n",
              "    <tr>\n",
              "      <th>5</th>\n",
              "      <td>YorshCarlin</td>\n",
              "      <td>1</td>\n",
              "      <td>8</td>\n",
              "      <td>6/10/2023 14:27</td>\n",
              "      <td>una puerta abierta al abuso policialincluso t...</td>\n",
              "      <td>106</td>\n",
              "    </tr>\n",
              "    <tr>\n",
              "      <th>...</th>\n",
              "      <td>...</td>\n",
              "      <td>...</td>\n",
              "      <td>...</td>\n",
              "      <td>...</td>\n",
              "      <td>...</td>\n",
              "      <td>...</td>\n",
              "    </tr>\n",
              "    <tr>\n",
              "      <th>135</th>\n",
              "      <td>z_bird986</td>\n",
              "      <td>0</td>\n",
              "      <td>0</td>\n",
              "      <td>6 oct.</td>\n",
              "      <td>a quienes vean sospechosos o a quien creen qu...</td>\n",
              "      <td>0</td>\n",
              "    </tr>\n",
              "    <tr>\n",
              "      <th>136</th>\n",
              "      <td>@cazarte_carlos</td>\n",
              "      <td>0</td>\n",
              "      <td>0</td>\n",
              "      <td>6 oct.</td>\n",
              "      <td>la modificación del código no ha afectado esa...</td>\n",
              "      <td>0</td>\n",
              "    </tr>\n",
              "    <tr>\n",
              "      <th>137</th>\n",
              "      <td>MiguelA04899081</td>\n",
              "      <td>0</td>\n",
              "      <td>0</td>\n",
              "      <td>6/10/2023 14:42</td>\n",
              "      <td>¿acusar y denunciar cuando están coimeando te...</td>\n",
              "      <td>0</td>\n",
              "    </tr>\n",
              "    <tr>\n",
              "      <th>138</th>\n",
              "      <td>LuisAri77761564</td>\n",
              "      <td>0</td>\n",
              "      <td>0</td>\n",
              "      <td>6/10/2023 21:50</td>\n",
              "      <td>todo es negociable no</td>\n",
              "      <td>1</td>\n",
              "    </tr>\n",
              "    <tr>\n",
              "      <th>139</th>\n",
              "      <td>Morga_Ezra</td>\n",
              "      <td>1</td>\n",
              "      <td>0</td>\n",
              "      <td>6/10/2023 16:51</td>\n",
              "      <td>identificarse ante una autoridad debería ser ...</td>\n",
              "      <td>5</td>\n",
              "    </tr>\n",
              "  </tbody>\n",
              "</table>\n",
              "<p>139 rows × 6 columns</p>\n",
              "</div>\n",
              "    <div class=\"colab-df-buttons\">\n",
              "\n",
              "  <div class=\"colab-df-container\">\n",
              "    <button class=\"colab-df-convert\" onclick=\"convertToInteractive('df-b9d5941c-8aca-4842-ac63-8253d65d5fe4')\"\n",
              "            title=\"Convert this dataframe to an interactive table.\"\n",
              "            style=\"display:none;\">\n",
              "\n",
              "  <svg xmlns=\"http://www.w3.org/2000/svg\" height=\"24px\" viewBox=\"0 -960 960 960\">\n",
              "    <path d=\"M120-120v-720h720v720H120Zm60-500h600v-160H180v160Zm220 220h160v-160H400v160Zm0 220h160v-160H400v160ZM180-400h160v-160H180v160Zm440 0h160v-160H620v160ZM180-180h160v-160H180v160Zm440 0h160v-160H620v160Z\"/>\n",
              "  </svg>\n",
              "    </button>\n",
              "\n",
              "  <style>\n",
              "    .colab-df-container {\n",
              "      display:flex;\n",
              "      gap: 12px;\n",
              "    }\n",
              "\n",
              "    .colab-df-convert {\n",
              "      background-color: #E8F0FE;\n",
              "      border: none;\n",
              "      border-radius: 50%;\n",
              "      cursor: pointer;\n",
              "      display: none;\n",
              "      fill: #1967D2;\n",
              "      height: 32px;\n",
              "      padding: 0 0 0 0;\n",
              "      width: 32px;\n",
              "    }\n",
              "\n",
              "    .colab-df-convert:hover {\n",
              "      background-color: #E2EBFA;\n",
              "      box-shadow: 0px 1px 2px rgba(60, 64, 67, 0.3), 0px 1px 3px 1px rgba(60, 64, 67, 0.15);\n",
              "      fill: #174EA6;\n",
              "    }\n",
              "\n",
              "    .colab-df-buttons div {\n",
              "      margin-bottom: 4px;\n",
              "    }\n",
              "\n",
              "    [theme=dark] .colab-df-convert {\n",
              "      background-color: #3B4455;\n",
              "      fill: #D2E3FC;\n",
              "    }\n",
              "\n",
              "    [theme=dark] .colab-df-convert:hover {\n",
              "      background-color: #434B5C;\n",
              "      box-shadow: 0px 1px 3px 1px rgba(0, 0, 0, 0.15);\n",
              "      filter: drop-shadow(0px 1px 2px rgba(0, 0, 0, 0.3));\n",
              "      fill: #FFFFFF;\n",
              "    }\n",
              "  </style>\n",
              "\n",
              "    <script>\n",
              "      const buttonEl =\n",
              "        document.querySelector('#df-b9d5941c-8aca-4842-ac63-8253d65d5fe4 button.colab-df-convert');\n",
              "      buttonEl.style.display =\n",
              "        google.colab.kernel.accessAllowed ? 'block' : 'none';\n",
              "\n",
              "      async function convertToInteractive(key) {\n",
              "        const element = document.querySelector('#df-b9d5941c-8aca-4842-ac63-8253d65d5fe4');\n",
              "        const dataTable =\n",
              "          await google.colab.kernel.invokeFunction('convertToInteractive',\n",
              "                                                    [key], {});\n",
              "        if (!dataTable) return;\n",
              "\n",
              "        const docLinkHtml = 'Like what you see? Visit the ' +\n",
              "          '<a target=\"_blank\" href=https://colab.research.google.com/notebooks/data_table.ipynb>data table notebook</a>'\n",
              "          + ' to learn more about interactive tables.';\n",
              "        element.innerHTML = '';\n",
              "        dataTable['output_type'] = 'display_data';\n",
              "        await google.colab.output.renderOutput(dataTable, element);\n",
              "        const docLink = document.createElement('div');\n",
              "        docLink.innerHTML = docLinkHtml;\n",
              "        element.appendChild(docLink);\n",
              "      }\n",
              "    </script>\n",
              "  </div>\n",
              "\n",
              "\n",
              "<div id=\"df-93a6dda5-cdd8-4f90-9ecd-2d27227b0a63\">\n",
              "  <button class=\"colab-df-quickchart\" onclick=\"quickchart('df-93a6dda5-cdd8-4f90-9ecd-2d27227b0a63')\"\n",
              "            title=\"Suggest charts\"\n",
              "            style=\"display:none;\">\n",
              "\n",
              "<svg xmlns=\"http://www.w3.org/2000/svg\" height=\"24px\"viewBox=\"0 0 24 24\"\n",
              "     width=\"24px\">\n",
              "    <g>\n",
              "        <path d=\"M19 3H5c-1.1 0-2 .9-2 2v14c0 1.1.9 2 2 2h14c1.1 0 2-.9 2-2V5c0-1.1-.9-2-2-2zM9 17H7v-7h2v7zm4 0h-2V7h2v10zm4 0h-2v-4h2v4z\"/>\n",
              "    </g>\n",
              "</svg>\n",
              "  </button>\n",
              "\n",
              "<style>\n",
              "  .colab-df-quickchart {\n",
              "      --bg-color: #E8F0FE;\n",
              "      --fill-color: #1967D2;\n",
              "      --hover-bg-color: #E2EBFA;\n",
              "      --hover-fill-color: #174EA6;\n",
              "      --disabled-fill-color: #AAA;\n",
              "      --disabled-bg-color: #DDD;\n",
              "  }\n",
              "\n",
              "  [theme=dark] .colab-df-quickchart {\n",
              "      --bg-color: #3B4455;\n",
              "      --fill-color: #D2E3FC;\n",
              "      --hover-bg-color: #434B5C;\n",
              "      --hover-fill-color: #FFFFFF;\n",
              "      --disabled-bg-color: #3B4455;\n",
              "      --disabled-fill-color: #666;\n",
              "  }\n",
              "\n",
              "  .colab-df-quickchart {\n",
              "    background-color: var(--bg-color);\n",
              "    border: none;\n",
              "    border-radius: 50%;\n",
              "    cursor: pointer;\n",
              "    display: none;\n",
              "    fill: var(--fill-color);\n",
              "    height: 32px;\n",
              "    padding: 0;\n",
              "    width: 32px;\n",
              "  }\n",
              "\n",
              "  .colab-df-quickchart:hover {\n",
              "    background-color: var(--hover-bg-color);\n",
              "    box-shadow: 0 1px 2px rgba(60, 64, 67, 0.3), 0 1px 3px 1px rgba(60, 64, 67, 0.15);\n",
              "    fill: var(--button-hover-fill-color);\n",
              "  }\n",
              "\n",
              "  .colab-df-quickchart-complete:disabled,\n",
              "  .colab-df-quickchart-complete:disabled:hover {\n",
              "    background-color: var(--disabled-bg-color);\n",
              "    fill: var(--disabled-fill-color);\n",
              "    box-shadow: none;\n",
              "  }\n",
              "\n",
              "  .colab-df-spinner {\n",
              "    border: 2px solid var(--fill-color);\n",
              "    border-color: transparent;\n",
              "    border-bottom-color: var(--fill-color);\n",
              "    animation:\n",
              "      spin 1s steps(1) infinite;\n",
              "  }\n",
              "\n",
              "  @keyframes spin {\n",
              "    0% {\n",
              "      border-color: transparent;\n",
              "      border-bottom-color: var(--fill-color);\n",
              "      border-left-color: var(--fill-color);\n",
              "    }\n",
              "    20% {\n",
              "      border-color: transparent;\n",
              "      border-left-color: var(--fill-color);\n",
              "      border-top-color: var(--fill-color);\n",
              "    }\n",
              "    30% {\n",
              "      border-color: transparent;\n",
              "      border-left-color: var(--fill-color);\n",
              "      border-top-color: var(--fill-color);\n",
              "      border-right-color: var(--fill-color);\n",
              "    }\n",
              "    40% {\n",
              "      border-color: transparent;\n",
              "      border-right-color: var(--fill-color);\n",
              "      border-top-color: var(--fill-color);\n",
              "    }\n",
              "    60% {\n",
              "      border-color: transparent;\n",
              "      border-right-color: var(--fill-color);\n",
              "    }\n",
              "    80% {\n",
              "      border-color: transparent;\n",
              "      border-right-color: var(--fill-color);\n",
              "      border-bottom-color: var(--fill-color);\n",
              "    }\n",
              "    90% {\n",
              "      border-color: transparent;\n",
              "      border-bottom-color: var(--fill-color);\n",
              "    }\n",
              "  }\n",
              "</style>\n",
              "\n",
              "  <script>\n",
              "    async function quickchart(key) {\n",
              "      const quickchartButtonEl =\n",
              "        document.querySelector('#' + key + ' button');\n",
              "      quickchartButtonEl.disabled = true;  // To prevent multiple clicks.\n",
              "      quickchartButtonEl.classList.add('colab-df-spinner');\n",
              "      try {\n",
              "        const charts = await google.colab.kernel.invokeFunction(\n",
              "            'suggestCharts', [key], {});\n",
              "      } catch (error) {\n",
              "        console.error('Error during call to suggestCharts:', error);\n",
              "      }\n",
              "      quickchartButtonEl.classList.remove('colab-df-spinner');\n",
              "      quickchartButtonEl.classList.add('colab-df-quickchart-complete');\n",
              "    }\n",
              "    (() => {\n",
              "      let quickchartButtonEl =\n",
              "        document.querySelector('#df-93a6dda5-cdd8-4f90-9ecd-2d27227b0a63 button');\n",
              "      quickchartButtonEl.style.display =\n",
              "        google.colab.kernel.accessAllowed ? 'block' : 'none';\n",
              "    })();\n",
              "  </script>\n",
              "</div>\n",
              "    </div>\n",
              "  </div>\n"
            ]
          },
          "metadata": {},
          "execution_count": 138
        }
      ]
    },
    {
      "cell_type": "code",
      "source": [
        "from pandas import DataFrame\n",
        "import string\n",
        "result_comentarios[['Tweet']] = result_comentarios[['Tweet']].astype(str).apply(lambda x: x.str.lower())#paso los datos a minuscula\n",
        "for puntuacion in string.punctuation:\n",
        "    result_comentarios['Tweet'] = result_comentarios['Tweet'].str.replace(puntuacion, '')"
      ],
      "metadata": {
        "id": "Vr84x4B_lL7p",
        "colab": {
          "base_uri": "https://localhost:8080/"
        },
        "outputId": "21f2f0dc-7ad7-4c89-f5f5-958528ce0462"
      },
      "execution_count": 139,
      "outputs": [
        {
          "output_type": "stream",
          "name": "stderr",
          "text": [
            "<ipython-input-139-b2d52a9432fa>:5: FutureWarning: The default value of regex will change from True to False in a future version. In addition, single character regular expressions will *not* be treated as literal strings when regex=True.\n",
            "  result_comentarios['Tweet'] = result_comentarios['Tweet'].str.replace(puntuacion, '')\n"
          ]
        }
      ]
    },
    {
      "cell_type": "code",
      "source": [
        "result_comentarios"
      ],
      "metadata": {
        "colab": {
          "base_uri": "https://localhost:8080/",
          "height": 424
        },
        "id": "FeVK3HN8mAlf",
        "outputId": "a51e87e8-04b9-46ba-92bc-9d250baf360d"
      },
      "execution_count": 140,
      "outputs": [
        {
          "output_type": "execute_result",
          "data": {
            "text/plain": [
              "            Username  Comments  Favorites             Date  \\\n",
              "0         turdepeish         3          8  6/10/2023 12:24   \n",
              "2         lazaro1975        13          7  6/10/2023 14:33   \n",
              "3     cazarte_carlos         1          5  6/10/2023 13:55   \n",
              "4       gabrielal4m0         2         33  6/10/2023 13:20   \n",
              "5        YorshCarlin         1          8  6/10/2023 14:27   \n",
              "..               ...       ...        ...              ...   \n",
              "135        z_bird986         0          0           6 oct.   \n",
              "136  @cazarte_carlos         0          0           6 oct.   \n",
              "137  MiguelA04899081         0          0  6/10/2023 14:42   \n",
              "138  LuisAri77761564         0          0  6/10/2023 21:50   \n",
              "139       Morga_Ezra         1          0  6/10/2023 16:51   \n",
              "\n",
              "                                                 Tweet  Author Followers  \n",
              "0     hace rato era no faltaran los sjw a decir ayy...               140  \n",
              "2     desde hace casi 30 años salgo siempre con mis...               262  \n",
              "3       maravilla la penepe con competencias de jue...               289  \n",
              "4     jfowks  la modificación del código no ha afec...              1059  \n",
              "5     una puerta abierta al abuso policialincluso t...               106  \n",
              "..                                                 ...               ...  \n",
              "135   a quienes vean sospechosos o a quien creen qu...                 0  \n",
              "136   la modificación del código no ha afectado esa...                 0  \n",
              "137   ¿acusar y denunciar cuando están coimeando te...                 0  \n",
              "138                              todo es negociable no                 1  \n",
              "139   identificarse ante una autoridad debería ser ...                 5  \n",
              "\n",
              "[139 rows x 6 columns]"
            ],
            "text/html": [
              "\n",
              "  <div id=\"df-9c9166a8-97de-4095-871e-940f3f3bcd42\" class=\"colab-df-container\">\n",
              "    <div>\n",
              "<style scoped>\n",
              "    .dataframe tbody tr th:only-of-type {\n",
              "        vertical-align: middle;\n",
              "    }\n",
              "\n",
              "    .dataframe tbody tr th {\n",
              "        vertical-align: top;\n",
              "    }\n",
              "\n",
              "    .dataframe thead th {\n",
              "        text-align: right;\n",
              "    }\n",
              "</style>\n",
              "<table border=\"1\" class=\"dataframe\">\n",
              "  <thead>\n",
              "    <tr style=\"text-align: right;\">\n",
              "      <th></th>\n",
              "      <th>Username</th>\n",
              "      <th>Comments</th>\n",
              "      <th>Favorites</th>\n",
              "      <th>Date</th>\n",
              "      <th>Tweet</th>\n",
              "      <th>Author Followers</th>\n",
              "    </tr>\n",
              "  </thead>\n",
              "  <tbody>\n",
              "    <tr>\n",
              "      <th>0</th>\n",
              "      <td>turdepeish</td>\n",
              "      <td>3</td>\n",
              "      <td>8</td>\n",
              "      <td>6/10/2023 12:24</td>\n",
              "      <td>hace rato era no faltaran los sjw a decir ayy...</td>\n",
              "      <td>140</td>\n",
              "    </tr>\n",
              "    <tr>\n",
              "      <th>2</th>\n",
              "      <td>lazaro1975</td>\n",
              "      <td>13</td>\n",
              "      <td>7</td>\n",
              "      <td>6/10/2023 14:33</td>\n",
              "      <td>desde hace casi 30 años salgo siempre con mis...</td>\n",
              "      <td>262</td>\n",
              "    </tr>\n",
              "    <tr>\n",
              "      <th>3</th>\n",
              "      <td>cazarte_carlos</td>\n",
              "      <td>1</td>\n",
              "      <td>5</td>\n",
              "      <td>6/10/2023 13:55</td>\n",
              "      <td>maravilla la penepe con competencias de jue...</td>\n",
              "      <td>289</td>\n",
              "    </tr>\n",
              "    <tr>\n",
              "      <th>4</th>\n",
              "      <td>gabrielal4m0</td>\n",
              "      <td>2</td>\n",
              "      <td>33</td>\n",
              "      <td>6/10/2023 13:20</td>\n",
              "      <td>jfowks  la modificación del código no ha afec...</td>\n",
              "      <td>1059</td>\n",
              "    </tr>\n",
              "    <tr>\n",
              "      <th>5</th>\n",
              "      <td>YorshCarlin</td>\n",
              "      <td>1</td>\n",
              "      <td>8</td>\n",
              "      <td>6/10/2023 14:27</td>\n",
              "      <td>una puerta abierta al abuso policialincluso t...</td>\n",
              "      <td>106</td>\n",
              "    </tr>\n",
              "    <tr>\n",
              "      <th>...</th>\n",
              "      <td>...</td>\n",
              "      <td>...</td>\n",
              "      <td>...</td>\n",
              "      <td>...</td>\n",
              "      <td>...</td>\n",
              "      <td>...</td>\n",
              "    </tr>\n",
              "    <tr>\n",
              "      <th>135</th>\n",
              "      <td>z_bird986</td>\n",
              "      <td>0</td>\n",
              "      <td>0</td>\n",
              "      <td>6 oct.</td>\n",
              "      <td>a quienes vean sospechosos o a quien creen qu...</td>\n",
              "      <td>0</td>\n",
              "    </tr>\n",
              "    <tr>\n",
              "      <th>136</th>\n",
              "      <td>@cazarte_carlos</td>\n",
              "      <td>0</td>\n",
              "      <td>0</td>\n",
              "      <td>6 oct.</td>\n",
              "      <td>la modificación del código no ha afectado esa...</td>\n",
              "      <td>0</td>\n",
              "    </tr>\n",
              "    <tr>\n",
              "      <th>137</th>\n",
              "      <td>MiguelA04899081</td>\n",
              "      <td>0</td>\n",
              "      <td>0</td>\n",
              "      <td>6/10/2023 14:42</td>\n",
              "      <td>¿acusar y denunciar cuando están coimeando te...</td>\n",
              "      <td>0</td>\n",
              "    </tr>\n",
              "    <tr>\n",
              "      <th>138</th>\n",
              "      <td>LuisAri77761564</td>\n",
              "      <td>0</td>\n",
              "      <td>0</td>\n",
              "      <td>6/10/2023 21:50</td>\n",
              "      <td>todo es negociable no</td>\n",
              "      <td>1</td>\n",
              "    </tr>\n",
              "    <tr>\n",
              "      <th>139</th>\n",
              "      <td>Morga_Ezra</td>\n",
              "      <td>1</td>\n",
              "      <td>0</td>\n",
              "      <td>6/10/2023 16:51</td>\n",
              "      <td>identificarse ante una autoridad debería ser ...</td>\n",
              "      <td>5</td>\n",
              "    </tr>\n",
              "  </tbody>\n",
              "</table>\n",
              "<p>139 rows × 6 columns</p>\n",
              "</div>\n",
              "    <div class=\"colab-df-buttons\">\n",
              "\n",
              "  <div class=\"colab-df-container\">\n",
              "    <button class=\"colab-df-convert\" onclick=\"convertToInteractive('df-9c9166a8-97de-4095-871e-940f3f3bcd42')\"\n",
              "            title=\"Convert this dataframe to an interactive table.\"\n",
              "            style=\"display:none;\">\n",
              "\n",
              "  <svg xmlns=\"http://www.w3.org/2000/svg\" height=\"24px\" viewBox=\"0 -960 960 960\">\n",
              "    <path d=\"M120-120v-720h720v720H120Zm60-500h600v-160H180v160Zm220 220h160v-160H400v160Zm0 220h160v-160H400v160ZM180-400h160v-160H180v160Zm440 0h160v-160H620v160ZM180-180h160v-160H180v160Zm440 0h160v-160H620v160Z\"/>\n",
              "  </svg>\n",
              "    </button>\n",
              "\n",
              "  <style>\n",
              "    .colab-df-container {\n",
              "      display:flex;\n",
              "      gap: 12px;\n",
              "    }\n",
              "\n",
              "    .colab-df-convert {\n",
              "      background-color: #E8F0FE;\n",
              "      border: none;\n",
              "      border-radius: 50%;\n",
              "      cursor: pointer;\n",
              "      display: none;\n",
              "      fill: #1967D2;\n",
              "      height: 32px;\n",
              "      padding: 0 0 0 0;\n",
              "      width: 32px;\n",
              "    }\n",
              "\n",
              "    .colab-df-convert:hover {\n",
              "      background-color: #E2EBFA;\n",
              "      box-shadow: 0px 1px 2px rgba(60, 64, 67, 0.3), 0px 1px 3px 1px rgba(60, 64, 67, 0.15);\n",
              "      fill: #174EA6;\n",
              "    }\n",
              "\n",
              "    .colab-df-buttons div {\n",
              "      margin-bottom: 4px;\n",
              "    }\n",
              "\n",
              "    [theme=dark] .colab-df-convert {\n",
              "      background-color: #3B4455;\n",
              "      fill: #D2E3FC;\n",
              "    }\n",
              "\n",
              "    [theme=dark] .colab-df-convert:hover {\n",
              "      background-color: #434B5C;\n",
              "      box-shadow: 0px 1px 3px 1px rgba(0, 0, 0, 0.15);\n",
              "      filter: drop-shadow(0px 1px 2px rgba(0, 0, 0, 0.3));\n",
              "      fill: #FFFFFF;\n",
              "    }\n",
              "  </style>\n",
              "\n",
              "    <script>\n",
              "      const buttonEl =\n",
              "        document.querySelector('#df-9c9166a8-97de-4095-871e-940f3f3bcd42 button.colab-df-convert');\n",
              "      buttonEl.style.display =\n",
              "        google.colab.kernel.accessAllowed ? 'block' : 'none';\n",
              "\n",
              "      async function convertToInteractive(key) {\n",
              "        const element = document.querySelector('#df-9c9166a8-97de-4095-871e-940f3f3bcd42');\n",
              "        const dataTable =\n",
              "          await google.colab.kernel.invokeFunction('convertToInteractive',\n",
              "                                                    [key], {});\n",
              "        if (!dataTable) return;\n",
              "\n",
              "        const docLinkHtml = 'Like what you see? Visit the ' +\n",
              "          '<a target=\"_blank\" href=https://colab.research.google.com/notebooks/data_table.ipynb>data table notebook</a>'\n",
              "          + ' to learn more about interactive tables.';\n",
              "        element.innerHTML = '';\n",
              "        dataTable['output_type'] = 'display_data';\n",
              "        await google.colab.output.renderOutput(dataTable, element);\n",
              "        const docLink = document.createElement('div');\n",
              "        docLink.innerHTML = docLinkHtml;\n",
              "        element.appendChild(docLink);\n",
              "      }\n",
              "    </script>\n",
              "  </div>\n",
              "\n",
              "\n",
              "<div id=\"df-f4bdb0cb-d763-4828-b36f-33978e24051c\">\n",
              "  <button class=\"colab-df-quickchart\" onclick=\"quickchart('df-f4bdb0cb-d763-4828-b36f-33978e24051c')\"\n",
              "            title=\"Suggest charts\"\n",
              "            style=\"display:none;\">\n",
              "\n",
              "<svg xmlns=\"http://www.w3.org/2000/svg\" height=\"24px\"viewBox=\"0 0 24 24\"\n",
              "     width=\"24px\">\n",
              "    <g>\n",
              "        <path d=\"M19 3H5c-1.1 0-2 .9-2 2v14c0 1.1.9 2 2 2h14c1.1 0 2-.9 2-2V5c0-1.1-.9-2-2-2zM9 17H7v-7h2v7zm4 0h-2V7h2v10zm4 0h-2v-4h2v4z\"/>\n",
              "    </g>\n",
              "</svg>\n",
              "  </button>\n",
              "\n",
              "<style>\n",
              "  .colab-df-quickchart {\n",
              "      --bg-color: #E8F0FE;\n",
              "      --fill-color: #1967D2;\n",
              "      --hover-bg-color: #E2EBFA;\n",
              "      --hover-fill-color: #174EA6;\n",
              "      --disabled-fill-color: #AAA;\n",
              "      --disabled-bg-color: #DDD;\n",
              "  }\n",
              "\n",
              "  [theme=dark] .colab-df-quickchart {\n",
              "      --bg-color: #3B4455;\n",
              "      --fill-color: #D2E3FC;\n",
              "      --hover-bg-color: #434B5C;\n",
              "      --hover-fill-color: #FFFFFF;\n",
              "      --disabled-bg-color: #3B4455;\n",
              "      --disabled-fill-color: #666;\n",
              "  }\n",
              "\n",
              "  .colab-df-quickchart {\n",
              "    background-color: var(--bg-color);\n",
              "    border: none;\n",
              "    border-radius: 50%;\n",
              "    cursor: pointer;\n",
              "    display: none;\n",
              "    fill: var(--fill-color);\n",
              "    height: 32px;\n",
              "    padding: 0;\n",
              "    width: 32px;\n",
              "  }\n",
              "\n",
              "  .colab-df-quickchart:hover {\n",
              "    background-color: var(--hover-bg-color);\n",
              "    box-shadow: 0 1px 2px rgba(60, 64, 67, 0.3), 0 1px 3px 1px rgba(60, 64, 67, 0.15);\n",
              "    fill: var(--button-hover-fill-color);\n",
              "  }\n",
              "\n",
              "  .colab-df-quickchart-complete:disabled,\n",
              "  .colab-df-quickchart-complete:disabled:hover {\n",
              "    background-color: var(--disabled-bg-color);\n",
              "    fill: var(--disabled-fill-color);\n",
              "    box-shadow: none;\n",
              "  }\n",
              "\n",
              "  .colab-df-spinner {\n",
              "    border: 2px solid var(--fill-color);\n",
              "    border-color: transparent;\n",
              "    border-bottom-color: var(--fill-color);\n",
              "    animation:\n",
              "      spin 1s steps(1) infinite;\n",
              "  }\n",
              "\n",
              "  @keyframes spin {\n",
              "    0% {\n",
              "      border-color: transparent;\n",
              "      border-bottom-color: var(--fill-color);\n",
              "      border-left-color: var(--fill-color);\n",
              "    }\n",
              "    20% {\n",
              "      border-color: transparent;\n",
              "      border-left-color: var(--fill-color);\n",
              "      border-top-color: var(--fill-color);\n",
              "    }\n",
              "    30% {\n",
              "      border-color: transparent;\n",
              "      border-left-color: var(--fill-color);\n",
              "      border-top-color: var(--fill-color);\n",
              "      border-right-color: var(--fill-color);\n",
              "    }\n",
              "    40% {\n",
              "      border-color: transparent;\n",
              "      border-right-color: var(--fill-color);\n",
              "      border-top-color: var(--fill-color);\n",
              "    }\n",
              "    60% {\n",
              "      border-color: transparent;\n",
              "      border-right-color: var(--fill-color);\n",
              "    }\n",
              "    80% {\n",
              "      border-color: transparent;\n",
              "      border-right-color: var(--fill-color);\n",
              "      border-bottom-color: var(--fill-color);\n",
              "    }\n",
              "    90% {\n",
              "      border-color: transparent;\n",
              "      border-bottom-color: var(--fill-color);\n",
              "    }\n",
              "  }\n",
              "</style>\n",
              "\n",
              "  <script>\n",
              "    async function quickchart(key) {\n",
              "      const quickchartButtonEl =\n",
              "        document.querySelector('#' + key + ' button');\n",
              "      quickchartButtonEl.disabled = true;  // To prevent multiple clicks.\n",
              "      quickchartButtonEl.classList.add('colab-df-spinner');\n",
              "      try {\n",
              "        const charts = await google.colab.kernel.invokeFunction(\n",
              "            'suggestCharts', [key], {});\n",
              "      } catch (error) {\n",
              "        console.error('Error during call to suggestCharts:', error);\n",
              "      }\n",
              "      quickchartButtonEl.classList.remove('colab-df-spinner');\n",
              "      quickchartButtonEl.classList.add('colab-df-quickchart-complete');\n",
              "    }\n",
              "    (() => {\n",
              "      let quickchartButtonEl =\n",
              "        document.querySelector('#df-f4bdb0cb-d763-4828-b36f-33978e24051c button');\n",
              "      quickchartButtonEl.style.display =\n",
              "        google.colab.kernel.accessAllowed ? 'block' : 'none';\n",
              "    })();\n",
              "  </script>\n",
              "</div>\n",
              "    </div>\n",
              "  </div>\n"
            ]
          },
          "metadata": {},
          "execution_count": 140
        }
      ]
    },
    {
      "cell_type": "code",
      "source": [
        "result_comentarios.isnull().sum().sum()"
      ],
      "metadata": {
        "colab": {
          "base_uri": "https://localhost:8080/"
        },
        "id": "avtjOb9dpZXl",
        "outputId": "2f3ab1a9-fb10-4906-f539-7c1066e37c8d"
      },
      "execution_count": 141,
      "outputs": [
        {
          "output_type": "execute_result",
          "data": {
            "text/plain": [
              "0"
            ]
          },
          "metadata": {},
          "execution_count": 141
        }
      ]
    },
    {
      "cell_type": "code",
      "source": [
        "#Descargar file comentarios.\n",
        "from google.colab import files\n",
        "result_comentarios.to_csv('datos_limpios.csv',encoding='latin1', sep=';',index=False)\n",
        "files.download('datos_limpios.csv')"
      ],
      "metadata": {
        "colab": {
          "base_uri": "https://localhost:8080/",
          "height": 17
        },
        "id": "4YT5lIC1rD3D",
        "outputId": "19937b1e-a5ca-4048-dc3d-c23a2b190f10"
      },
      "execution_count": 142,
      "outputs": [
        {
          "output_type": "display_data",
          "data": {
            "text/plain": [
              "<IPython.core.display.Javascript object>"
            ],
            "application/javascript": [
              "\n",
              "    async function download(id, filename, size) {\n",
              "      if (!google.colab.kernel.accessAllowed) {\n",
              "        return;\n",
              "      }\n",
              "      const div = document.createElement('div');\n",
              "      const label = document.createElement('label');\n",
              "      label.textContent = `Downloading \"${filename}\": `;\n",
              "      div.appendChild(label);\n",
              "      const progress = document.createElement('progress');\n",
              "      progress.max = size;\n",
              "      div.appendChild(progress);\n",
              "      document.body.appendChild(div);\n",
              "\n",
              "      const buffers = [];\n",
              "      let downloaded = 0;\n",
              "\n",
              "      const channel = await google.colab.kernel.comms.open(id);\n",
              "      // Send a message to notify the kernel that we're ready.\n",
              "      channel.send({})\n",
              "\n",
              "      for await (const message of channel.messages) {\n",
              "        // Send a message to notify the kernel that we're ready.\n",
              "        channel.send({})\n",
              "        if (message.buffers) {\n",
              "          for (const buffer of message.buffers) {\n",
              "            buffers.push(buffer);\n",
              "            downloaded += buffer.byteLength;\n",
              "            progress.value = downloaded;\n",
              "          }\n",
              "        }\n",
              "      }\n",
              "      const blob = new Blob(buffers, {type: 'application/binary'});\n",
              "      const a = document.createElement('a');\n",
              "      a.href = window.URL.createObjectURL(blob);\n",
              "      a.download = filename;\n",
              "      div.appendChild(a);\n",
              "      a.click();\n",
              "      div.remove();\n",
              "    }\n",
              "  "
            ]
          },
          "metadata": {}
        },
        {
          "output_type": "display_data",
          "data": {
            "text/plain": [
              "<IPython.core.display.Javascript object>"
            ],
            "application/javascript": [
              "download(\"download_d4e649c2-f971-4878-990e-29eb6cb8a458\", \"datos_limpios.csv\", 18940)"
            ]
          },
          "metadata": {}
        }
      ]
    }
  ]
}